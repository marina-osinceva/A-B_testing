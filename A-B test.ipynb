{
 "cells": [
  {
   "cell_type": "code",
   "execution_count": 2,
   "id": "6acb77fe",
   "metadata": {},
   "outputs": [],
   "source": [
    "#импорт библиотек\n",
    "\n",
    "import pandas as pd\n",
    "import seaborn as sns\n",
    "import matplotlib.pyplot as plt\n",
    "import statsmodels.api as sm\n",
    "import numpy as np"
   ]
  },
  {
   "cell_type": "code",
   "execution_count": 3,
   "id": "7f633141",
   "metadata": {},
   "outputs": [],
   "source": [
    "#читаем таблицу с метрикой-скор для каждой вакансии \n",
    "\n",
    "vacs_metrics = pd.read_csv('vacs_metrics.csv')"
   ]
  },
  {
   "cell_type": "code",
   "execution_count": 4,
   "id": "6881f3b8",
   "metadata": {},
   "outputs": [
    {
     "data": {
      "text/html": [
       "<div>\n",
       "<style scoped>\n",
       "    .dataframe tbody tr th:only-of-type {\n",
       "        vertical-align: middle;\n",
       "    }\n",
       "\n",
       "    .dataframe tbody tr th {\n",
       "        vertical-align: top;\n",
       "    }\n",
       "\n",
       "    .dataframe thead th {\n",
       "        text-align: right;\n",
       "    }\n",
       "</style>\n",
       "<table border=\"1\" class=\"dataframe\">\n",
       "  <thead>\n",
       "    <tr style=\"text-align: right;\">\n",
       "      <th></th>\n",
       "      <th>vacancy_id_conv</th>\n",
       "      <th>metric_full</th>\n",
       "      <th>emplpyer_id</th>\n",
       "    </tr>\n",
       "  </thead>\n",
       "  <tbody>\n",
       "    <tr>\n",
       "      <th>0</th>\n",
       "      <td>1</td>\n",
       "      <td>5.250818</td>\n",
       "      <td>640</td>\n",
       "    </tr>\n",
       "    <tr>\n",
       "      <th>1</th>\n",
       "      <td>2</td>\n",
       "      <td>5.808587</td>\n",
       "      <td>5123</td>\n",
       "    </tr>\n",
       "    <tr>\n",
       "      <th>2</th>\n",
       "      <td>3</td>\n",
       "      <td>2.830297</td>\n",
       "      <td>3325</td>\n",
       "    </tr>\n",
       "    <tr>\n",
       "      <th>3</th>\n",
       "      <td>4</td>\n",
       "      <td>5.179469</td>\n",
       "      <td>3511</td>\n",
       "    </tr>\n",
       "    <tr>\n",
       "      <th>4</th>\n",
       "      <td>5</td>\n",
       "      <td>5.457955</td>\n",
       "      <td>6604</td>\n",
       "    </tr>\n",
       "  </tbody>\n",
       "</table>\n",
       "</div>"
      ],
      "text/plain": [
       "   vacancy_id_conv  metric_full  emplpyer_id\n",
       "0                1     5.250818          640\n",
       "1                2     5.808587         5123\n",
       "2                3     2.830297         3325\n",
       "3                4     5.179469         3511\n",
       "4                5     5.457955         6604"
      ]
     },
     "execution_count": 4,
     "metadata": {},
     "output_type": "execute_result"
    }
   ],
   "source": [
    "vacs_metrics.head()"
   ]
  },
  {
   "cell_type": "code",
   "execution_count": 5,
   "id": "d3430323",
   "metadata": {
    "scrolled": true
   },
   "outputs": [
    {
     "data": {
      "text/html": [
       "<div>\n",
       "<style scoped>\n",
       "    .dataframe tbody tr th:only-of-type {\n",
       "        vertical-align: middle;\n",
       "    }\n",
       "\n",
       "    .dataframe tbody tr th {\n",
       "        vertical-align: top;\n",
       "    }\n",
       "\n",
       "    .dataframe thead th {\n",
       "        text-align: right;\n",
       "    }\n",
       "</style>\n",
       "<table border=\"1\" class=\"dataframe\">\n",
       "  <thead>\n",
       "    <tr style=\"text-align: right;\">\n",
       "      <th></th>\n",
       "      <th>vacancy_id_conv</th>\n",
       "      <th>metric_full</th>\n",
       "      <th>emplpyer_id</th>\n",
       "    </tr>\n",
       "  </thead>\n",
       "  <tbody>\n",
       "    <tr>\n",
       "      <th>count</th>\n",
       "      <td>55500.000000</td>\n",
       "      <td>55500.000000</td>\n",
       "      <td>55500.000000</td>\n",
       "    </tr>\n",
       "    <tr>\n",
       "      <th>mean</th>\n",
       "      <td>28750.169694</td>\n",
       "      <td>4.393625</td>\n",
       "      <td>4994.316342</td>\n",
       "    </tr>\n",
       "    <tr>\n",
       "      <th>std</th>\n",
       "      <td>16711.462112</td>\n",
       "      <td>1.430828</td>\n",
       "      <td>2882.736532</td>\n",
       "    </tr>\n",
       "    <tr>\n",
       "      <th>min</th>\n",
       "      <td>1.000000</td>\n",
       "      <td>-2.259488</td>\n",
       "      <td>0.000000</td>\n",
       "    </tr>\n",
       "    <tr>\n",
       "      <th>25%</th>\n",
       "      <td>14281.750000</td>\n",
       "      <td>3.609140</td>\n",
       "      <td>2485.000000</td>\n",
       "    </tr>\n",
       "    <tr>\n",
       "      <th>50%</th>\n",
       "      <td>28660.500000</td>\n",
       "      <td>4.562120</td>\n",
       "      <td>4994.000000</td>\n",
       "    </tr>\n",
       "    <tr>\n",
       "      <th>75%</th>\n",
       "      <td>43149.250000</td>\n",
       "      <td>5.372227</td>\n",
       "      <td>7469.000000</td>\n",
       "    </tr>\n",
       "    <tr>\n",
       "      <th>max</th>\n",
       "      <td>58346.000000</td>\n",
       "      <td>8.949871</td>\n",
       "      <td>9999.000000</td>\n",
       "    </tr>\n",
       "  </tbody>\n",
       "</table>\n",
       "</div>"
      ],
      "text/plain": [
       "       vacancy_id_conv   metric_full   emplpyer_id\n",
       "count     55500.000000  55500.000000  55500.000000\n",
       "mean      28750.169694      4.393625   4994.316342\n",
       "std       16711.462112      1.430828   2882.736532\n",
       "min           1.000000     -2.259488      0.000000\n",
       "25%       14281.750000      3.609140   2485.000000\n",
       "50%       28660.500000      4.562120   4994.000000\n",
       "75%       43149.250000      5.372227   7469.000000\n",
       "max       58346.000000      8.949871   9999.000000"
      ]
     },
     "execution_count": 5,
     "metadata": {},
     "output_type": "execute_result"
    }
   ],
   "source": [
    "vacs_metrics.describe()"
   ]
  },
  {
   "cell_type": "code",
   "execution_count": 6,
   "id": "d97e3e2a",
   "metadata": {},
   "outputs": [],
   "source": [
    "#вакансии с метрикой-скор меньше трех\n",
    "\n",
    "score_less_than_3 = vacs_metrics.query('metric_full < 3')"
   ]
  },
  {
   "cell_type": "code",
   "execution_count": 7,
   "id": "22d6f049",
   "metadata": {},
   "outputs": [
    {
     "data": {
      "text/html": [
       "<div>\n",
       "<style scoped>\n",
       "    .dataframe tbody tr th:only-of-type {\n",
       "        vertical-align: middle;\n",
       "    }\n",
       "\n",
       "    .dataframe tbody tr th {\n",
       "        vertical-align: top;\n",
       "    }\n",
       "\n",
       "    .dataframe thead th {\n",
       "        text-align: right;\n",
       "    }\n",
       "</style>\n",
       "<table border=\"1\" class=\"dataframe\">\n",
       "  <thead>\n",
       "    <tr style=\"text-align: right;\">\n",
       "      <th></th>\n",
       "      <th>vacancy_id_conv</th>\n",
       "      <th>metric_full</th>\n",
       "      <th>emplpyer_id</th>\n",
       "    </tr>\n",
       "  </thead>\n",
       "  <tbody>\n",
       "    <tr>\n",
       "      <th>2</th>\n",
       "      <td>3</td>\n",
       "      <td>2.830297</td>\n",
       "      <td>3325</td>\n",
       "    </tr>\n",
       "    <tr>\n",
       "      <th>36</th>\n",
       "      <td>37</td>\n",
       "      <td>2.718547</td>\n",
       "      <td>5685</td>\n",
       "    </tr>\n",
       "    <tr>\n",
       "      <th>51</th>\n",
       "      <td>52</td>\n",
       "      <td>2.840717</td>\n",
       "      <td>4405</td>\n",
       "    </tr>\n",
       "    <tr>\n",
       "      <th>58</th>\n",
       "      <td>59</td>\n",
       "      <td>2.770307</td>\n",
       "      <td>5415</td>\n",
       "    </tr>\n",
       "    <tr>\n",
       "      <th>60</th>\n",
       "      <td>61</td>\n",
       "      <td>0.789023</td>\n",
       "      <td>5325</td>\n",
       "    </tr>\n",
       "    <tr>\n",
       "      <th>...</th>\n",
       "      <td>...</td>\n",
       "      <td>...</td>\n",
       "      <td>...</td>\n",
       "    </tr>\n",
       "    <tr>\n",
       "      <th>55494</th>\n",
       "      <td>58335</td>\n",
       "      <td>2.201372</td>\n",
       "      <td>7325</td>\n",
       "    </tr>\n",
       "    <tr>\n",
       "      <th>55495</th>\n",
       "      <td>58338</td>\n",
       "      <td>2.825501</td>\n",
       "      <td>1900</td>\n",
       "    </tr>\n",
       "    <tr>\n",
       "      <th>55496</th>\n",
       "      <td>58339</td>\n",
       "      <td>0.842977</td>\n",
       "      <td>2173</td>\n",
       "    </tr>\n",
       "    <tr>\n",
       "      <th>55497</th>\n",
       "      <td>58342</td>\n",
       "      <td>-0.628653</td>\n",
       "      <td>1110</td>\n",
       "    </tr>\n",
       "    <tr>\n",
       "      <th>55498</th>\n",
       "      <td>58343</td>\n",
       "      <td>1.892471</td>\n",
       "      <td>9611</td>\n",
       "    </tr>\n",
       "  </tbody>\n",
       "</table>\n",
       "<p>8499 rows × 3 columns</p>\n",
       "</div>"
      ],
      "text/plain": [
       "       vacancy_id_conv  metric_full  emplpyer_id\n",
       "2                    3     2.830297         3325\n",
       "36                  37     2.718547         5685\n",
       "51                  52     2.840717         4405\n",
       "58                  59     2.770307         5415\n",
       "60                  61     0.789023         5325\n",
       "...                ...          ...          ...\n",
       "55494            58335     2.201372         7325\n",
       "55495            58338     2.825501         1900\n",
       "55496            58339     0.842977         2173\n",
       "55497            58342    -0.628653         1110\n",
       "55498            58343     1.892471         9611\n",
       "\n",
       "[8499 rows x 3 columns]"
      ]
     },
     "execution_count": 7,
     "metadata": {},
     "output_type": "execute_result"
    }
   ],
   "source": [
    "score_less_than_3"
   ]
  },
  {
   "cell_type": "code",
   "execution_count": 8,
   "id": "1bbad632",
   "metadata": {},
   "outputs": [],
   "source": [
    "# доля вакансий со скором меньше трех от всех вакансий\n",
    "\n",
    "metric_now = round(vacs_metrics.query('metric_full < 3').shape[0] / vacs_metrics.shape[0],3)"
   ]
  },
  {
   "cell_type": "code",
   "execution_count": 9,
   "id": "dfa51812",
   "metadata": {},
   "outputs": [
    {
     "data": {
      "text/plain": [
       "0.153"
      ]
     },
     "execution_count": 9,
     "metadata": {},
     "output_type": "execute_result"
    }
   ],
   "source": [
    "metric_now"
   ]
  },
  {
   "cell_type": "code",
   "execution_count": 10,
   "id": "bbb99221",
   "metadata": {},
   "outputs": [],
   "source": [
    "#читаем таблицу поисковых выдач с колонками\n",
    "\n",
    "serps = pd.read_csv('serps.csv')"
   ]
  },
  {
   "cell_type": "code",
   "execution_count": 11,
   "id": "e838bef2",
   "metadata": {},
   "outputs": [
    {
     "data": {
      "text/html": [
       "<div>\n",
       "<style scoped>\n",
       "    .dataframe tbody tr th:only-of-type {\n",
       "        vertical-align: middle;\n",
       "    }\n",
       "\n",
       "    .dataframe tbody tr th {\n",
       "        vertical-align: top;\n",
       "    }\n",
       "\n",
       "    .dataframe thead th {\n",
       "        text-align: right;\n",
       "    }\n",
       "</style>\n",
       "<table border=\"1\" class=\"dataframe\">\n",
       "  <thead>\n",
       "    <tr style=\"text-align: right;\">\n",
       "      <th></th>\n",
       "      <th>request_id</th>\n",
       "      <th>vacancy_id_conv</th>\n",
       "      <th>city</th>\n",
       "      <th>applicant</th>\n",
       "    </tr>\n",
       "  </thead>\n",
       "  <tbody>\n",
       "    <tr>\n",
       "      <th>0</th>\n",
       "      <td>168719525526659303f2dee867dc6eda</td>\n",
       "      <td>48019</td>\n",
       "      <td>Moscow</td>\n",
       "      <td>78076</td>\n",
       "    </tr>\n",
       "    <tr>\n",
       "      <th>1</th>\n",
       "      <td>168719525526659303f2dee867dc6eda</td>\n",
       "      <td>45120</td>\n",
       "      <td>Moscow</td>\n",
       "      <td>614859</td>\n",
       "    </tr>\n",
       "    <tr>\n",
       "      <th>2</th>\n",
       "      <td>168719525526659303f2dee867dc6eda</td>\n",
       "      <td>18132</td>\n",
       "      <td>Moscow</td>\n",
       "      <td>175212</td>\n",
       "    </tr>\n",
       "    <tr>\n",
       "      <th>3</th>\n",
       "      <td>168719525526659303f2dee867dc6eda</td>\n",
       "      <td>29942</td>\n",
       "      <td>Moscow</td>\n",
       "      <td>322643</td>\n",
       "    </tr>\n",
       "    <tr>\n",
       "      <th>4</th>\n",
       "      <td>168719525526659303f2dee867dc6eda</td>\n",
       "      <td>32658</td>\n",
       "      <td>Moscow</td>\n",
       "      <td>722260</td>\n",
       "    </tr>\n",
       "  </tbody>\n",
       "</table>\n",
       "</div>"
      ],
      "text/plain": [
       "                         request_id  vacancy_id_conv    city  applicant\n",
       "0  168719525526659303f2dee867dc6eda            48019  Moscow      78076\n",
       "1  168719525526659303f2dee867dc6eda            45120  Moscow     614859\n",
       "2  168719525526659303f2dee867dc6eda            18132  Moscow     175212\n",
       "3  168719525526659303f2dee867dc6eda            29942  Moscow     322643\n",
       "4  168719525526659303f2dee867dc6eda            32658  Moscow     722260"
      ]
     },
     "execution_count": 11,
     "metadata": {},
     "output_type": "execute_result"
    }
   ],
   "source": [
    "serps.head()"
   ]
  },
  {
   "cell_type": "code",
   "execution_count": 12,
   "id": "384c2eae",
   "metadata": {},
   "outputs": [],
   "source": [
    "#выводим индекс поисковой выдачи в отдельный столбец\n",
    "\n",
    "serps = serps.reset_index()\n",
    "serps['index']= serps['index'].map(lambda x:x+1)"
   ]
  },
  {
   "cell_type": "code",
   "execution_count": 13,
   "id": "43c13cb1",
   "metadata": {},
   "outputs": [],
   "source": [
    "#вводим весовой коэффииент для вакансии в поисковой выдаче (порядок вакансии в поисковой выдаче/кол-во вакансий в выдаче)\n",
    "\n",
    "serps['weight_coefficient'] = serps.groupby('request_id').index.rank() \n",
    "serps['max_rank'] = serps.groupby(['request_id']).weight_coefficient.transform('max')\n",
    "serps['weight_coefficient'] = round(serps['max_rank']/serps['weight_coefficient'],3)"
   ]
  },
  {
   "cell_type": "code",
   "execution_count": 14,
   "id": "7b3c8c84",
   "metadata": {},
   "outputs": [],
   "source": [
    "#избавляемся от вспомогательных столбцов\n",
    "\n",
    "serps = serps[['request_id','vacancy_id_conv','city','applicant','weight_coefficient']]"
   ]
  },
  {
   "cell_type": "code",
   "execution_count": 15,
   "id": "b4eda1cb",
   "metadata": {},
   "outputs": [],
   "source": [
    "vac_rating = serps.groupby('vacancy_id_conv', as_index=False).agg({'weight_coefficient':'sum'}) \\\n",
    "    .rename(columns={'weight_coefficient':'vac_rating'}).sort_values('vac_rating', ascending=False)"
   ]
  },
  {
   "cell_type": "code",
   "execution_count": 16,
   "id": "1dc4e7c4",
   "metadata": {},
   "outputs": [
    {
     "data": {
      "text/html": [
       "<div>\n",
       "<style scoped>\n",
       "    .dataframe tbody tr th:only-of-type {\n",
       "        vertical-align: middle;\n",
       "    }\n",
       "\n",
       "    .dataframe tbody tr th {\n",
       "        vertical-align: top;\n",
       "    }\n",
       "\n",
       "    .dataframe thead th {\n",
       "        text-align: right;\n",
       "    }\n",
       "</style>\n",
       "<table border=\"1\" class=\"dataframe\">\n",
       "  <thead>\n",
       "    <tr style=\"text-align: right;\">\n",
       "      <th></th>\n",
       "      <th>vacancy_id_conv</th>\n",
       "      <th>vac_rating</th>\n",
       "    </tr>\n",
       "  </thead>\n",
       "  <tbody>\n",
       "    <tr>\n",
       "      <th>13564</th>\n",
       "      <td>13960</td>\n",
       "      <td>38658.806</td>\n",
       "    </tr>\n",
       "    <tr>\n",
       "      <th>15229</th>\n",
       "      <td>15681</td>\n",
       "      <td>32231.031</td>\n",
       "    </tr>\n",
       "    <tr>\n",
       "      <th>15974</th>\n",
       "      <td>16444</td>\n",
       "      <td>17932.512</td>\n",
       "    </tr>\n",
       "    <tr>\n",
       "      <th>33186</th>\n",
       "      <td>34321</td>\n",
       "      <td>9669.666</td>\n",
       "    </tr>\n",
       "    <tr>\n",
       "      <th>7635</th>\n",
       "      <td>7841</td>\n",
       "      <td>7314.243</td>\n",
       "    </tr>\n",
       "  </tbody>\n",
       "</table>\n",
       "</div>"
      ],
      "text/plain": [
       "       vacancy_id_conv  vac_rating\n",
       "13564            13960   38658.806\n",
       "15229            15681   32231.031\n",
       "15974            16444   17932.512\n",
       "33186            34321    9669.666\n",
       "7635              7841    7314.243"
      ]
     },
     "execution_count": 16,
     "metadata": {},
     "output_type": "execute_result"
    }
   ],
   "source": [
    "vac_rating.head()"
   ]
  },
  {
   "cell_type": "code",
   "execution_count": 17,
   "id": "77dc45c6",
   "metadata": {},
   "outputs": [
    {
     "data": {
      "text/html": [
       "<div>\n",
       "<style scoped>\n",
       "    .dataframe tbody tr th:only-of-type {\n",
       "        vertical-align: middle;\n",
       "    }\n",
       "\n",
       "    .dataframe tbody tr th {\n",
       "        vertical-align: top;\n",
       "    }\n",
       "\n",
       "    .dataframe thead th {\n",
       "        text-align: right;\n",
       "    }\n",
       "</style>\n",
       "<table border=\"1\" class=\"dataframe\">\n",
       "  <thead>\n",
       "    <tr style=\"text-align: right;\">\n",
       "      <th></th>\n",
       "      <th>vacancy_id_conv</th>\n",
       "      <th>vac_rating</th>\n",
       "    </tr>\n",
       "  </thead>\n",
       "  <tbody>\n",
       "    <tr>\n",
       "      <th>count</th>\n",
       "      <td>55500.000000</td>\n",
       "      <td>55500.000000</td>\n",
       "    </tr>\n",
       "    <tr>\n",
       "      <th>mean</th>\n",
       "      <td>28750.169694</td>\n",
       "      <td>85.399619</td>\n",
       "    </tr>\n",
       "    <tr>\n",
       "      <th>std</th>\n",
       "      <td>16711.462112</td>\n",
       "      <td>313.455015</td>\n",
       "    </tr>\n",
       "    <tr>\n",
       "      <th>min</th>\n",
       "      <td>1.000000</td>\n",
       "      <td>1.000000</td>\n",
       "    </tr>\n",
       "    <tr>\n",
       "      <th>25%</th>\n",
       "      <td>14281.750000</td>\n",
       "      <td>11.456000</td>\n",
       "    </tr>\n",
       "    <tr>\n",
       "      <th>50%</th>\n",
       "      <td>28660.500000</td>\n",
       "      <td>29.417000</td>\n",
       "    </tr>\n",
       "    <tr>\n",
       "      <th>75%</th>\n",
       "      <td>43149.250000</td>\n",
       "      <td>74.085000</td>\n",
       "    </tr>\n",
       "    <tr>\n",
       "      <th>max</th>\n",
       "      <td>58346.000000</td>\n",
       "      <td>38658.806000</td>\n",
       "    </tr>\n",
       "  </tbody>\n",
       "</table>\n",
       "</div>"
      ],
      "text/plain": [
       "       vacancy_id_conv    vac_rating\n",
       "count     55500.000000  55500.000000\n",
       "mean      28750.169694     85.399619\n",
       "std       16711.462112    313.455015\n",
       "min           1.000000      1.000000\n",
       "25%       14281.750000     11.456000\n",
       "50%       28660.500000     29.417000\n",
       "75%       43149.250000     74.085000\n",
       "max       58346.000000  38658.806000"
      ]
     },
     "execution_count": 17,
     "metadata": {},
     "output_type": "execute_result"
    }
   ],
   "source": [
    "vac_rating.describe()"
   ]
  },
  {
   "cell_type": "code",
   "execution_count": 18,
   "id": "a2539d9b",
   "metadata": {},
   "outputs": [],
   "source": [
    "low_rating = vac_rating.query('vac_rating<=29.4173')"
   ]
  },
  {
   "cell_type": "code",
   "execution_count": 20,
   "id": "3ac3c39e",
   "metadata": {},
   "outputs": [],
   "source": [
    "high_rating  = vac_rating.query('vac_rating > 29.417')"
   ]
  },
  {
   "cell_type": "code",
   "execution_count": 21,
   "id": "92ef3aff",
   "metadata": {},
   "outputs": [
    {
     "data": {
      "text/html": [
       "<div>\n",
       "<style scoped>\n",
       "    .dataframe tbody tr th:only-of-type {\n",
       "        vertical-align: middle;\n",
       "    }\n",
       "\n",
       "    .dataframe tbody tr th {\n",
       "        vertical-align: top;\n",
       "    }\n",
       "\n",
       "    .dataframe thead th {\n",
       "        text-align: right;\n",
       "    }\n",
       "</style>\n",
       "<table border=\"1\" class=\"dataframe\">\n",
       "  <thead>\n",
       "    <tr style=\"text-align: right;\">\n",
       "      <th></th>\n",
       "      <th>vacancy_id_conv</th>\n",
       "      <th>vac_rating</th>\n",
       "    </tr>\n",
       "  </thead>\n",
       "  <tbody>\n",
       "    <tr>\n",
       "      <th>47453</th>\n",
       "      <td>49286</td>\n",
       "      <td>29.417</td>\n",
       "    </tr>\n",
       "    <tr>\n",
       "      <th>43342</th>\n",
       "      <td>44953</td>\n",
       "      <td>29.417</td>\n",
       "    </tr>\n",
       "    <tr>\n",
       "      <th>36485</th>\n",
       "      <td>37792</td>\n",
       "      <td>29.417</td>\n",
       "    </tr>\n",
       "    <tr>\n",
       "      <th>49997</th>\n",
       "      <td>52039</td>\n",
       "      <td>29.417</td>\n",
       "    </tr>\n",
       "    <tr>\n",
       "      <th>45319</th>\n",
       "      <td>47028</td>\n",
       "      <td>29.417</td>\n",
       "    </tr>\n",
       "  </tbody>\n",
       "</table>\n",
       "</div>"
      ],
      "text/plain": [
       "       vacancy_id_conv  vac_rating\n",
       "47453            49286      29.417\n",
       "43342            44953      29.417\n",
       "36485            37792      29.417\n",
       "49997            52039      29.417\n",
       "45319            47028      29.417"
      ]
     },
     "execution_count": 21,
     "metadata": {},
     "output_type": "execute_result"
    }
   ],
   "source": [
    "low_rating.head()"
   ]
  },
  {
   "cell_type": "code",
   "execution_count": 91,
   "id": "9156f195",
   "metadata": {},
   "outputs": [],
   "source": [
    "union_rating = vac_rating.merge(vacs_metrics, on='vacancy_id_conv')"
   ]
  },
  {
   "cell_type": "code",
   "execution_count": 94,
   "id": "f8a90cbc",
   "metadata": {},
   "outputs": [],
   "source": [
    "low_union_rating = union_rating.query('vac_rating<=29.4173')"
   ]
  },
  {
   "cell_type": "code",
   "execution_count": 96,
   "id": "098689fe",
   "metadata": {},
   "outputs": [],
   "source": [
    "high_union_rating = union_rating.query('vac_rating > 29.4173')"
   ]
  },
  {
   "cell_type": "code",
   "execution_count": 108,
   "id": "e21807b6",
   "metadata": {},
   "outputs": [
    {
     "data": {
      "text/plain": [
       "<Axes: >"
      ]
     },
     "execution_count": 108,
     "metadata": {},
     "output_type": "execute_result"
    },
    {
     "data": {
      "image/png": "[encoded data removed]",
      "text/plain": [
       "<Figure size 640x480 with 1 Axes>"
      ]
     },
     "metadata": {},
     "output_type": "display_data"
    }
   ],
   "source": [
    "pd.concat([low_union_rating.metric_full, high_union_rating.metric_full], axis=1).boxplot()"
   ]
  },
  {
   "cell_type": "code",
   "execution_count": 36,
   "id": "3ba819b7",
   "metadata": {},
   "outputs": [],
   "source": [
    "high_rating_clear = high_rating.merge(vacs_metrics, on='vacancy_id_conv').query('metric_full > 3')"
   ]
  },
  {
   "cell_type": "code",
   "execution_count": 37,
   "id": "14e82f72",
   "metadata": {},
   "outputs": [
    {
     "data": {
      "text/plain": [
       "(26498, 4)"
      ]
     },
     "execution_count": 37,
     "metadata": {},
     "output_type": "execute_result"
    }
   ],
   "source": [
    "high_rating_clear.shape"
   ]
  },
  {
   "cell_type": "code",
   "execution_count": 38,
   "id": "452828fe",
   "metadata": {},
   "outputs": [],
   "source": [
    "low_rating_clear = low_rating.merge(vacs_metrics, on='vacancy_id_conv').query('metric_full <= 3')"
   ]
  },
  {
   "cell_type": "code",
   "execution_count": 39,
   "id": "028dee3b",
   "metadata": {},
   "outputs": [
    {
     "data": {
      "text/plain": [
       "(7255, 4)"
      ]
     },
     "execution_count": 39,
     "metadata": {},
     "output_type": "execute_result"
    }
   ],
   "source": [
    "low_rating_clear.shape"
   ]
  },
  {
   "cell_type": "code",
   "execution_count": 40,
   "id": "6b0b3cae",
   "metadata": {},
   "outputs": [
    {
     "data": {
      "text/plain": [
       "<Axes: >"
      ]
     },
     "execution_count": 40,
     "metadata": {},
     "output_type": "execute_result"
    },
    {
     "data": {
      "image/png": "[encoded data removed]",
      "text/plain": [
       "<Figure size 640x480 with 1 Axes>"
      ]
     },
     "metadata": {},
     "output_type": "display_data"
    }
   ],
   "source": [
    "pd.concat([low_rating_clear.metric_full, high_rating_clear.metric_full], axis=1).boxplot()"
   ]
  },
  {
   "cell_type": "code",
   "execution_count": 41,
   "id": "cd6ee528",
   "metadata": {},
   "outputs": [],
   "source": [
    "control_clear = set()\n",
    "for i in range(0, len(low_rating_clear.vacancy_id_conv),2):\n",
    "    control_clear.add(low_rating_clear.reset_index().vacancy_id_conv[i])\n",
    "while len(control_clear) < 7255:\n",
    "    control_clear.add(np.random.choice(high_rating_clear.vacancy_id_conv))"
   ]
  },
  {
   "cell_type": "code",
   "execution_count": 61,
   "id": "f546058d",
   "metadata": {
    "scrolled": false
   },
   "outputs": [],
   "source": [
    "test_clear = set()\n",
    "for i in range(1, len(low_rating_clear.vacancy_id_conv),2):\n",
    "    test_clear.add(low_rating_clear.reset_index().vacancy_id_conv[i])\n",
    "free_high_rating_vacs = list(set(high_rating_clear.vacancy_id_conv)-control_clear)\n",
    "while len(test_clear) < 7255:\n",
    "    test_clear.add(np.random.choice(free_high_rating_vacs))"
   ]
  },
  {
   "cell_type": "code",
   "execution_count": 63,
   "id": "3ab53639",
   "metadata": {},
   "outputs": [
    {
     "data": {
      "text/plain": [
       "set()"
      ]
     },
     "execution_count": 63,
     "metadata": {},
     "output_type": "execute_result"
    }
   ],
   "source": [
    "#проверка на несовпадение двух групп\n",
    "control_clear&test_clear"
   ]
  },
  {
   "cell_type": "code",
   "execution_count": 65,
   "id": "7d809177",
   "metadata": {},
   "outputs": [],
   "source": [
    "test_clear_df = pd.DataFrame(test_clear).rename(columns={0:'vacancy_id_conv'}).sample(frac=1).reset_index(drop=True)"
   ]
  },
  {
   "cell_type": "code",
   "execution_count": 110,
   "id": "23afc005",
   "metadata": {},
   "outputs": [
    {
     "data": {
      "text/html": [
       "<div>\n",
       "<style scoped>\n",
       "    .dataframe tbody tr th:only-of-type {\n",
       "        vertical-align: middle;\n",
       "    }\n",
       "\n",
       "    .dataframe tbody tr th {\n",
       "        vertical-align: top;\n",
       "    }\n",
       "\n",
       "    .dataframe thead th {\n",
       "        text-align: right;\n",
       "    }\n",
       "</style>\n",
       "<table border=\"1\" class=\"dataframe\">\n",
       "  <thead>\n",
       "    <tr style=\"text-align: right;\">\n",
       "      <th></th>\n",
       "      <th>vacancy_id_conv</th>\n",
       "    </tr>\n",
       "  </thead>\n",
       "  <tbody>\n",
       "    <tr>\n",
       "      <th>0</th>\n",
       "      <td>15840</td>\n",
       "    </tr>\n",
       "    <tr>\n",
       "      <th>1</th>\n",
       "      <td>20080</td>\n",
       "    </tr>\n",
       "    <tr>\n",
       "      <th>2</th>\n",
       "      <td>47305</td>\n",
       "    </tr>\n",
       "    <tr>\n",
       "      <th>3</th>\n",
       "      <td>23936</td>\n",
       "    </tr>\n",
       "    <tr>\n",
       "      <th>4</th>\n",
       "      <td>19965</td>\n",
       "    </tr>\n",
       "    <tr>\n",
       "      <th>...</th>\n",
       "      <td>...</td>\n",
       "    </tr>\n",
       "    <tr>\n",
       "      <th>7250</th>\n",
       "      <td>75</td>\n",
       "    </tr>\n",
       "    <tr>\n",
       "      <th>7251</th>\n",
       "      <td>14925</td>\n",
       "    </tr>\n",
       "    <tr>\n",
       "      <th>7252</th>\n",
       "      <td>37427</td>\n",
       "    </tr>\n",
       "    <tr>\n",
       "      <th>7253</th>\n",
       "      <td>108</td>\n",
       "    </tr>\n",
       "    <tr>\n",
       "      <th>7254</th>\n",
       "      <td>33240</td>\n",
       "    </tr>\n",
       "  </tbody>\n",
       "</table>\n",
       "<p>7255 rows × 1 columns</p>\n",
       "</div>"
      ],
      "text/plain": [
       "      vacancy_id_conv\n",
       "0               15840\n",
       "1               20080\n",
       "2               47305\n",
       "3               23936\n",
       "4               19965\n",
       "...               ...\n",
       "7250               75\n",
       "7251            14925\n",
       "7252            37427\n",
       "7253              108\n",
       "7254            33240\n",
       "\n",
       "[7255 rows x 1 columns]"
      ]
     },
     "execution_count": 110,
     "metadata": {},
     "output_type": "execute_result"
    }
   ],
   "source": [
    "control_clear_df"
   ]
  },
  {
   "cell_type": "code",
   "execution_count": 66,
   "id": "1cf92cce",
   "metadata": {},
   "outputs": [],
   "source": [
    "control_clear_df = pd.DataFrame(control_clear).rename(columns={0:'vacancy_id_conv'}).sample(frac=1).reset_index(drop=True)"
   ]
  },
  {
   "cell_type": "code",
   "execution_count": 67,
   "id": "e77038f6",
   "metadata": {},
   "outputs": [],
   "source": [
    "control_metric_clear = control_clear_df.merge(vacs_metrics, on='vacancy_id_conv')"
   ]
  },
  {
   "cell_type": "code",
   "execution_count": 74,
   "id": "84329f11",
   "metadata": {
    "scrolled": false
   },
   "outputs": [
    {
     "data": {
      "text/plain": [
       "3.3575292506469276"
      ]
     },
     "execution_count": 74,
     "metadata": {},
     "output_type": "execute_result"
    }
   ],
   "source": [
    "control_metric_clear.metric_full.var()"
   ]
  },
  {
   "cell_type": "code",
   "execution_count": 69,
   "id": "91ec561b",
   "metadata": {},
   "outputs": [],
   "source": [
    "test_metric_clear = test_clear_df.merge(vacs_metrics, on='vacancy_id_conv')"
   ]
  },
  {
   "cell_type": "code",
   "execution_count": 73,
   "id": "8a4be1a8",
   "metadata": {},
   "outputs": [
    {
     "data": {
      "text/plain": [
       "3.284738739083842"
      ]
     },
     "execution_count": 73,
     "metadata": {},
     "output_type": "execute_result"
    }
   ],
   "source": [
    "test_metric_clear.metric_full.var()"
   ]
  },
  {
   "cell_type": "code",
   "execution_count": 118,
   "id": "9003bb12",
   "metadata": {},
   "outputs": [],
   "source": [
    "MDE = (-(-2.802)*((test_metric_clear.metric_full.var()+control_metric_clear.metric_full.var())/7255)**0.5) *100"
   ]
  },
  {
   "cell_type": "code",
   "execution_count": 119,
   "id": "3d2d8bd1",
   "metadata": {},
   "outputs": [
    {
     "data": {
      "text/plain": [
       "8.478277347527246"
      ]
     },
     "execution_count": 119,
     "metadata": {},
     "output_type": "execute_result"
    }
   ],
   "source": [
    "MDE"
   ]
  },
  {
   "cell_type": "code",
   "execution_count": null,
   "id": "2419fdfc",
   "metadata": {},
   "outputs": [],
   "source": []
  },
  {
   "cell_type": "code",
   "execution_count": null,
   "id": "c4a6ab01",
   "metadata": {},
   "outputs": [],
   "source": []
  },
  {
   "cell_type": "code",
   "execution_count": null,
   "id": "acbb3df2",
   "metadata": {},
   "outputs": [],
   "source": []
  },
  {
   "cell_type": "code",
   "execution_count": null,
   "id": "fafd0c34",
   "metadata": {},
   "outputs": [],
   "source": []
  },
  {
   "cell_type": "code",
   "execution_count": null,
   "id": "0eb2653a",
   "metadata": {},
   "outputs": [],
   "source": []
  },
  {
   "cell_type": "code",
   "execution_count": null,
   "id": "4f8eb4cf",
   "metadata": {},
   "outputs": [],
   "source": []
  },
  {
   "cell_type": "code",
   "execution_count": null,
   "id": "0e2de2b9",
   "metadata": {},
   "outputs": [],
   "source": []
  },
  {
   "cell_type": "code",
   "execution_count": null,
   "id": "0bbf597f",
   "metadata": {},
   "outputs": [],
   "source": []
  }
 ],
 "metadata": {
  "kernelspec": {
   "display_name": "Python 3 (ipykernel)",
   "language": "python",
   "name": "python3"
  },
  "language_info": {
   "codemirror_mode": {
    "name": "ipython",
    "version": 3
   },
   "file_extension": ".py",
   "mimetype": "text/x-python",
   "name": "python",
   "nbconvert_exporter": "python",
   "pygments_lexer": "ipython3",
   "version": "3.11.3"
  }
 },
 "nbformat": 4,
 "nbformat_minor": 5
}
